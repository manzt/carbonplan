{
 "cells": [
  {
   "cell_type": "code",
   "execution_count": 1,
   "id": "60abeb11-680d-4430-a919-b20e7f26dd95",
   "metadata": {},
   "outputs": [
    {
     "data": {
      "application/vnd.jupyter.widget-view+json": {
       "model_id": "5add5206700b49f3884ca73a5766af1f",
       "version_major": 2,
       "version_minor": 0
      },
      "text/plain": [
       "Widget(clim=(-20, 30), dimensions=('y', 'x'), source='https://carbonplan-maps.s3.us-west-2.amazonaws.com/v2/de…"
      ]
     },
     "execution_count": 1,
     "metadata": {},
     "output_type": "execute_result"
    }
   ],
   "source": [
    "import carbonplan\n",
    "\n",
    "map_widget = carbonplan.Widget(\n",
    "    source=\"https://carbonplan-maps.s3.us-west-2.amazonaws.com/v2/demo/2d/tavg\",\n",
    "    variable=\"tavg\",\n",
    "    dimensions=(\"y\", \"x\"),\n",
    ")\n",
    "map_widget"
   ]
  },
  {
   "cell_type": "code",
   "execution_count": 2,
   "id": "375c454e-b044-4631-a7d2-9096ac68d583",
   "metadata": {},
   "outputs": [
    {
     "data": {
      "application/vnd.jupyter.widget-view+json": {
       "model_id": "689c7f8c799448a6bdff270f439817f3",
       "version_major": 2,
       "version_minor": 0
      },
      "text/plain": [
       "VBox(children=(HBox(children=(Dropdown(index=14, options=('oranges', 'yellows', 'reds', 'greens', 'teals', 'bl…"
      ]
     },
     "execution_count": 2,
     "metadata": {},
     "output_type": "execute_result"
    }
   ],
   "source": [
    "import ipywidgets\n",
    "\n",
    "colormap = ipywidgets.Dropdown(options=[\"oranges\", \"yellows\", \"reds\", \"greens\", \"teals\", \"blues\", \"purples\", \"pinks\", \"greys\", \"fire\", \"earth\", \"water\", \"heart\", \"wind\", \"warm\", \"cool\", \"pinkgreen\", \"redteal\", \"orangeblue\", \"yellowpurple\", \"redgrey\", \"orangegrey\", \"yellowgrey\", \"greengrey\", \"tealgrey\", \"bluegrey\", \"purplegrey\", \"pinkgrey\", \"rainbow\", \"sinebow\"])\n",
    "clim = ipywidgets.FloatRangeSlider(min=-20, max=30)\n",
    "opacity = ipywidgets.FloatSlider(min=0, max=1, step=0.001)\n",
    "\n",
    "ipywidgets.link((map_widget, \"colormap\"), (colormap, \"value\"))\n",
    "ipywidgets.link((map_widget, \"clim\"), (clim, \"value\"))\n",
    "ipywidgets.link((map_widget, \"opacity\"), (opacity, \"value\"))\n",
    "\n",
    "ipywidgets.VBox([ipywidgets.HBox([colormap, opacity, clim]), map_widget])"
   ]
  },
  {
   "cell_type": "code",
   "execution_count": null,
   "id": "ec7863fb-5c3a-4336-ada2-db819e694164",
   "metadata": {},
   "outputs": [],
   "source": []
  },
  {
   "cell_type": "code",
   "execution_count": null,
   "id": "5c74c38b-07ca-4dac-8cb5-3983d649fb8e",
   "metadata": {},
   "outputs": [],
   "source": []
  }
 ],
 "metadata": {
  "kernelspec": {
   "display_name": "Python 3 (ipykernel)",
   "language": "python",
   "name": "python3"
  },
  "language_info": {
   "codemirror_mode": {
    "name": "ipython",
    "version": 3
   },
   "file_extension": ".py",
   "mimetype": "text/x-python",
   "name": "python",
   "nbconvert_exporter": "python",
   "pygments_lexer": "ipython3",
   "version": "3.11.4"
  }
 },
 "nbformat": 4,
 "nbformat_minor": 5
}
