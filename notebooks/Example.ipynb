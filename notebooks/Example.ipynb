{
 "cells": [
  {
   "cell_type": "code",
   "execution_count": null,
   "id": "60abeb11-680d-4430-a919-b20e7f26dd95",
   "metadata": {},
   "outputs": [],
   "source": [
    "import carbonplan\n",
    "\n",
    "map_widget = carbonplan.Widget(\n",
    "    source=\"https://carbonplan-maps.s3.us-west-2.amazonaws.com/v2/demo/2d/tavg\",\n",
    "    variable=\"tavg\",\n",
    "    dimensions=(\"y\", \"x\"),\n",
    ")\n",
    "map_widget"
   ]
  },
  {
   "cell_type": "code",
   "execution_count": null,
   "id": "375c454e-b044-4631-a7d2-9096ac68d583",
   "metadata": {},
   "outputs": [],
   "source": [
    "import ipywidgets\n",
    "\n",
    "colormap = ipywidgets.Dropdown(options=[\"oranges\", \"yellows\", \"reds\", \"greens\", \"teals\", \"blues\", \"purples\", \"pinks\", \"greys\", \"fire\", \"earth\", \"water\", \"heart\", \"wind\", \"warm\", \"cool\", \"pinkgreen\", \"redteal\", \"orangeblue\", \"yellowpurple\", \"redgrey\", \"orangegrey\", \"yellowgrey\", \"greengrey\", \"tealgrey\", \"bluegrey\", \"purplegrey\", \"pinkgrey\", \"rainbow\", \"sinebow\"])\n",
    "clim = ipywidgets.FloatRangeSlider(min=-20, max=30)\n",
    "opacity = ipywidgets.FloatSlider(min=0, max=1, step=0.001)\n",
    "region = ipywidgets.Checkbox(description=\"Region\")\n",
    "\n",
    "ipywidgets.link((map_widget, \"colormap\"), (colormap, \"value\"))\n",
    "ipywidgets.link((map_widget, \"clim\"), (clim, \"value\"))\n",
    "ipywidgets.link((map_widget, \"opacity\"), (opacity, \"value\"))\n",
    "ipywidgets.link((map_widget, \"region\"), (region, \"value\"))\n",
    "\n",
    "ipywidgets.VBox([\n",
    "    ipywidgets.HBox([colormap, opacity, clim]),\n",
    "    region,\n",
    "    map_widget,\n",
    "])"
   ]
  },
  {
   "cell_type": "code",
   "execution_count": null,
   "id": "d0b8426b-c863-4194-9e3a-03441a76b7bf",
   "metadata": {},
   "outputs": [],
   "source": [
    "# Select region and then execute this cell\n",
    "map_widget.data"
   ]
  },
  {
   "cell_type": "code",
   "execution_count": null,
   "id": "273f83c9-45af-4e2a-9593-5bd496a69313",
   "metadata": {},
   "outputs": [],
   "source": [
    "carbonplan.Widget(\n",
    "    source=\"https://carbonplan-maps.s3.us-west-2.amazonaws.com/v2/demo/4d/tavg-prec-month\",\n",
    "    variable=\"climate\",\n",
    "    selector={ \"month\": 1, \"band\": \"tavg\" }\n",
    ")"
   ]
  },
  {
   "cell_type": "code",
   "execution_count": null,
   "id": "9b79b047-fd9d-427c-8987-804b8266281b",
   "metadata": {},
   "outputs": [],
   "source": [
    "_.clim = (-10, 20)"
   ]
  },
  {
   "cell_type": "code",
   "execution_count": null,
   "id": "4a3937aa-ead0-4d28-9c1f-ba2402434b60",
   "metadata": {},
   "outputs": [],
   "source": []
  }
 ],
 "metadata": {
  "kernelspec": {
   "display_name": "Python 3 (ipykernel)",
   "language": "python",
   "name": "python3"
  },
  "language_info": {
   "codemirror_mode": {
    "name": "ipython",
    "version": 3
   },
   "file_extension": ".py",
   "mimetype": "text/x-python",
   "name": "python",
   "nbconvert_exporter": "python",
   "pygments_lexer": "ipython3",
   "version": "3.11.4"
  }
 },
 "nbformat": 4,
 "nbformat_minor": 5
}
